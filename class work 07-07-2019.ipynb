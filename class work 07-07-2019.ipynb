{
 "cells": [
  {
   "cell_type": "code",
   "execution_count": 48,
   "metadata": {},
   "outputs": [],
   "source": [
    "def full_name(first_name='sumaira', mname='momina',last_name='Aslam'):\n",
    "    print(f'first name = {first_name}')\n",
    "    print(f'middle name = {mname}')\n",
    "    print(f'last name = {last_name}')"
   ]
  },
  {
   "cell_type": "code",
   "execution_count": 50,
   "metadata": {},
   "outputs": [
    {
     "name": "stdout",
     "output_type": "stream",
     "text": [
      "first name = sumaira\n",
      "middle name = momina\n",
      "last name = Aslam\n"
     ]
    }
   ],
   "source": [
    "full_name()"
   ]
  },
  {
   "cell_type": "code",
   "execution_count": 36,
   "metadata": {},
   "outputs": [],
   "source": [
    "def n(a,b):\n",
    "    print(f'fnum = {a}')\n",
    "    print(f'lname = {b}')\n"
   ]
  },
  {
   "cell_type": "code",
   "execution_count": 38,
   "metadata": {},
   "outputs": [
    {
     "name": "stdout",
     "output_type": "stream",
     "text": [
      "fnum = 8\n",
      "lname = 4\n"
     ]
    }
   ],
   "source": [
    "n()"
   ]
  },
  {
   "cell_type": "code",
   "execution_count": 72,
   "metadata": {},
   "outputs": [],
   "source": [
    "def pizzas(size,flavor,*toppings):\n",
    "    print(size,flavor)\n",
    "    print(toppings)"
   ]
  },
  {
   "cell_type": "code",
   "execution_count": 73,
   "metadata": {},
   "outputs": [
    {
     "name": "stdout",
     "output_type": "stream",
     "text": [
      "large cheesy\n",
      "('jalepeno', 'olives', 'chicken', 'oregano', 'pizzasauce', 'sausages', 'cheese')\n"
     ]
    }
   ],
   "source": [
    "pizzas('large','cheesy','jalepeno','olives','chicken','oregano','pizzasauce','sausages','cheese')"
   ]
  },
  {
   "cell_type": "code",
   "execution_count": 83,
   "metadata": {},
   "outputs": [],
   "source": [
    "def num(a=4,b=6):\n",
    "    print(a*b)"
   ]
  },
  {
   "cell_type": "code",
   "execution_count": 84,
   "metadata": {},
   "outputs": [
    {
     "name": "stdout",
     "output_type": "stream",
     "text": [
      "24\n"
     ]
    }
   ],
   "source": [
    "num(4,6)"
   ]
  },
  {
   "cell_type": "code",
   "execution_count": 78,
   "metadata": {},
   "outputs": [],
   "source": [
    "def cars(make , model,**specs):\n",
    "    print(make, model)\n",
    "    print(specs)"
   ]
  },
  {
   "cell_type": "code",
   "execution_count": 80,
   "metadata": {},
   "outputs": [
    {
     "name": "stdout",
     "output_type": "stream",
     "text": [
      "toyota prius\n",
      "{'transmission': 'automatic', 'power': 'ok', 'abc': 123}\n"
     ]
    }
   ],
   "source": [
    "cars('toyota','prius', transmission = 'automatic', power = 'ok', abc = 123)"
   ]
  },
  {
   "cell_type": "markdown",
   "metadata": {},
   "source": [
    "# Functions As a variable\n"
   ]
  },
  {
   "cell_type": "code",
   "execution_count": 85,
   "metadata": {},
   "outputs": [],
   "source": [
    "def add(a,b):\n",
    "    c= a + b\n",
    "    return c\n",
    "def sub(a,b):\n",
    "    c = a - b\n",
    "    return c "
   ]
  },
  {
   "cell_type": "code",
   "execution_count": 88,
   "metadata": {},
   "outputs": [
    {
     "name": "stdout",
     "output_type": "stream",
     "text": [
      "150\n"
     ]
    }
   ],
   "source": [
    "result = add(90,10) + sub(60,10)\n",
    "print(result)"
   ]
  },
  {
   "cell_type": "code",
   "execution_count": 89,
   "metadata": {},
   "outputs": [
    {
     "name": "stdout",
     "output_type": "stream",
     "text": [
      "{'a': 'abc', 'b': 'efg'}\n"
     ]
    }
   ],
   "source": [
    "d = dict(a = 'abc',b = 'efg')\n",
    "print(d)"
   ]
  },
  {
   "cell_type": "markdown",
   "metadata": {},
   "source": [
    "# while loops"
   ]
  },
  {
   "cell_type": "code",
   "execution_count": 96,
   "metadata": {},
   "outputs": [
    {
     "name": "stdout",
     "output_type": "stream",
     "text": [
      "0\n",
      "2\n",
      "4\n",
      "6\n",
      "8\n"
     ]
    }
   ],
   "source": [
    "a = 0\n",
    "while a < 10:\n",
    "    print(a)\n",
    "    a += 2\n"
   ]
  },
  {
   "cell_type": "code",
   "execution_count": 3,
   "metadata": {},
   "outputs": [
    {
     "name": "stdout",
     "output_type": "stream",
     "text": [
      "enter a topping a\n",
      "enter a topping s\n",
      "enter a topping e\n",
      "enter a topping f\n",
      "enter a topping c\n",
      "['a', 's', 'e', 'f', 'c']\n"
     ]
    }
   ],
   "source": [
    "t = []\n",
    "for a in range (5):\n",
    "     toppings = input('enter a topping ')\n",
    "     t.append(toppings)\n",
    "print(t)"
   ]
  },
  {
   "cell_type": "code",
   "execution_count": 1,
   "metadata": {},
   "outputs": [
    {
     "name": "stdout",
     "output_type": "stream",
     "text": [
      "enter a topping s\n",
      "enter a topping f\n",
      "enter a topping e\n",
      "enter a topping q\n",
      "enter a topping r\n",
      "enter a topping tikka chunks\n",
      "['s', 'f', 'e', 'q', 'r']\n"
     ]
    }
   ],
   "source": [
    "u = []\n",
    "flag = True\n",
    "while flag:\n",
    "    toppings = input('enter a topping ')\n",
    "    if toppings == 'tikka chunks':\n",
    "        flag = False \n",
    "    else:\n",
    "        u.append(toppings)\n",
    "print(u)"
   ]
  },
  {
   "cell_type": "markdown",
   "metadata": {},
   "source": [
    "# program\n"
   ]
  },
  {
   "cell_type": "code",
   "execution_count": null,
   "metadata": {},
   "outputs": [
    {
     "name": "stdout",
     "output_type": "stream",
     "text": [
      "Pizza Order\n",
      "['jumbo', 'large', 'medium', 'small']\n"
     ]
    }
   ],
   "source": [
    "available_flavours = ['fajita', 'chickentikka', 'vege','cheesy']\n",
    "available_size = ['jumbo','large','medium', 'small']\n",
    "available_toppings = ['olives','cheese','capsicum']\n",
    "print('Pizza Order')\n",
    "flag = True\n",
    "while flag:\n",
    "    print(available_size)\n",
    "    size = input('Enter the size:')\n",
    "    if size not in available_size:\n",
    "        print(f'{size} is not available....')\n",
    "        print('Please Enter the size again...')\n",
    "        "
   ]
  },
  {
   "cell_type": "code",
   "execution_count": null,
   "metadata": {},
   "outputs": [],
   "source": []
  }
 ],
 "metadata": {
  "kernelspec": {
   "display_name": "Python 3",
   "language": "python",
   "name": "python3"
  },
  "language_info": {
   "codemirror_mode": {
    "name": "ipython",
    "version": 3
   },
   "file_extension": ".py",
   "mimetype": "text/x-python",
   "name": "python",
   "nbconvert_exporter": "python",
   "pygments_lexer": "ipython3",
   "version": "3.7.3"
  }
 },
 "nbformat": 4,
 "nbformat_minor": 2
}
